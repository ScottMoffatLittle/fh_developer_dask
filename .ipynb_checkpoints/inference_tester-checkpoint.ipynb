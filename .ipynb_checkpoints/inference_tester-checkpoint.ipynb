{
 "cells": [
  {
   "cell_type": "code",
   "execution_count": null,
   "id": "904c31e5",
   "metadata": {},
   "outputs": [],
   "source": [
    "import os\n",
    "import numpy as np\n",
    "import torch\n",
    "import torchvision.transforms as T\n",
    "from PIL import Image\n",
    "from torchvision.transforms.functional import InterpolationMode\n",
    "from transformers import AutoModel, AutoTokenizer\n",
    "from PIL import Image\n",
    "\n",
    "from transformers.dynamic_module_utils import get_imports\n",
    "from unittest.mock import patch\n",
    "from typing import Union, List\n"
   ]
  },
  {
   "cell_type": "code",
   "execution_count": null,
   "id": "6769882f",
   "metadata": {},
   "outputs": [],
   "source": [
    "# Define the model name and cache directory\n",
    "model_name = \"OpenGVLab/InternVL2-Llama3-76B\"\n",
    "\n"
   ]
  },
  {
   "cell_type": "code",
   "execution_count": null,
   "id": "80fdbd5f",
   "metadata": {},
   "outputs": [],
   "source": [
    "def fixed_get_imports(filename: Union[str, os.PathLike]) -> List[str]:\n",
    "    \"\"\"Work around for https://huggingface.co/microsoft/phi-1_5/discussions/72.\"\"\"\n",
    "    imports = get_imports(filename)\n",
    "    print(imports)\n",
    "    if \"flash_attn\" in imports:\n",
    "        imports.remove(\"flash_attn\")\n",
    "    print(imports)\n",
    "    return imports"
   ]
  },
  {
   "cell_type": "code",
   "execution_count": null,
   "id": "b0beed3f",
   "metadata": {},
   "outputs": [],
   "source": []
  },
  {
   "cell_type": "code",
   "execution_count": null,
   "id": "639f4efc",
   "metadata": {},
   "outputs": [],
   "source": [
    "with patch(\"transformers.dynamic_module_utils.get_imports\", fixed_get_imports):\n",
    "\n",
    "    # Download and load the model and tokenizer\n",
    "    tokenizer = AutoTokenizer.from_pretrained(model_name, trust_remote_code=True)\n",
    "    model = AutoModel.from_pretrained(\n",
    "        model_name,\n",
    "        torch_dtype=torch.bfloat16,\n",
    "        trust_remote_code=True).eval()"
   ]
  },
  {
   "cell_type": "code",
   "execution_count": null,
   "id": "e99c4b81",
   "metadata": {},
   "outputs": [],
   "source": []
  },
  {
   "cell_type": "code",
   "execution_count": null,
   "id": "495fab4f",
   "metadata": {},
   "outputs": [],
   "source": []
  }
 ],
 "metadata": {
  "kernelspec": {
   "display_name": "Python 3 (ipykernel)",
   "language": "python",
   "name": "python3"
  },
  "language_info": {
   "codemirror_mode": {
    "name": "ipython",
    "version": 3
   },
   "file_extension": ".py",
   "mimetype": "text/x-python",
   "name": "python",
   "nbconvert_exporter": "python",
   "pygments_lexer": "ipython3",
   "version": "3.8.19"
  }
 },
 "nbformat": 4,
 "nbformat_minor": 5
}
